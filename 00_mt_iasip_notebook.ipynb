{
 "cells": [
  {
   "cell_type": "markdown",
   "metadata": {},
   "source": [
    "#IASIP: The Gang Codes Python"
   ]
  },
  {
   "cell_type": "code",
   "execution_count": null,
   "metadata": {
    "scrolled": true
   },
   "outputs": [],
   "source": [
    "%%HTML\n",
    "<i> Pondy is the coolest!</i>\n",
    "<img src=\"https://i.imgur.com/MyrwEFn.jpg\" alt=\"hand drawn image of Bill Pondarosa at his sisters wedding.\"></img>"
   ]
  },
  {
   "cell_type": "code",
   "execution_count": null,
   "metadata": {
    "scrolled": true
   },
   "outputs": [],
   "source": [
    "%%HTML\n",
    "<i> \"With a plastic bag for a helmet!!!\" \"</i>\n",
    "<img src=\"https://i.imgur.com/Sthqe90.jpg\" alt=\"hand drawn image of Frank at the Analyst's Office, ink on paper\"></img>"
   ]
  },
  {
   "cell_type": "code",
   "execution_count": null,
   "metadata": {
    "scrolled": false
   },
   "outputs": [],
   "source": [
    "%%HTML\n",
    "<i> You gotta takem off son!!!</i>\n",
    "<img src=\"https://i.imgur.com/WC4O9zu.jpg\" alt=\"Z remembers some favorite jean shorts.\"></img>"
   ]
  },
  {
   "cell_type": "code",
   "execution_count": null,
   "metadata": {
    "scrolled": true
   },
   "outputs": [],
   "source": [
    "%%HTML\n",
    "<i> What the hell went on back there?!</i>\n",
    "<img src=\"https://i.imgur.com/LjRBq6g.jpg\" alt=\"Hoss Bonaventure, C.E.O.\"></img>"
   ]
  },
  {
   "cell_type": "code",
   "execution_count": null,
   "metadata": {
    "scrolled": true
   },
   "outputs": [],
   "source": [
    "%%!\n",
    "cd ~/mtPy/iasip/\n",
    "pwd\n",
    "cat iasip.sql\n",
    "#determine if data file is valid. \n",
    "#use iasip[2,4,5,etc].csv and iasip.3.csv to validate updates before merging into iasip.sql file"
   ]
  },
  {
   "cell_type": "code",
   "execution_count": 41,
   "metadata": {},
   "outputs": [],
   "source": [
    "import pandas as pd\n",
    "import numpy as np\n",
    "import os"
   ]
  },
  {
   "cell_type": "markdown",
   "metadata": {
    "scrolled": true
   },
   "source": [
    "##Use the following steps to determine where data is missing in the data .csv files. \n",
    "'''\n",
    "Once corrected, build a iasip.sql file.\n",
    "Create a dataframe to determine if merging the two update files will correct missing\n",
    "values before updating\n",
    "Files: iasip3.csv contains seasons 12 & 13 data, practice merging data frames here\n",
    "Find which rows in these files are showing null (NaN) values. which data file is the most correct? \n",
    "Once the data files are corrected, use this same procedure to check if the update file is correct before exporting to the processed file directory.\n",
    "\n",
    "path_docs = 'https://docs.python.org/2/library/os.path.html'\n",
    "\n",
    "Join one or more path components intelligently. The return value is the concatenation of path and any members of *paths with exactly one directory separator (os.sep) following each non-empty part except the last, meaning that the result will only end in a separator if the last part is empty. If a component is an absolute path, all previous components are thrown away and joining continues from the absolute path component.\n",
    "\n",
    "\n",
    "\n",
    "\n",
    "\n",
    "\n",
    "'''"
   ]
  },
  {
   "cell_type": "code",
   "execution_count": 31,
   "metadata": {
    "scrolled": true
   },
   "outputs": [
    {
     "name": "stdout",
     "output_type": "stream",
     "text": [
      "episode,season,e_title,e_time,day_of_week,location,keywords\r\n",
      "1,S01E01,The Gang Gets Racist,12:45 AM,On a Thursday,\"Philadelphia, PA\",\r\n",
      "2,S01E02,Charlie Wants an Abortion,11:45 AM,On a Tuesday,\"Philadelphia, PA\", \r\n",
      "3,S01E03,Underage Drinking: A National Concern,9:45 PM,On a Friday,\"Philadelphia, PA\",\r\n",
      "4,S01E04,Charlie Has Cancer,12:40 PM,On a Tuesday,\"Philadelphia, PA\",\r\n",
      "5,S01E05,Gun Fever,11:25 AM,On a Friday,\"Philadelphia, PA\", \r\n",
      "6,S01E06,The Gang Finds a Dead Guy,10:25 AM,On a Friday,\"Philadelphia, PA\",\r\n",
      "7,S01E07,Charlie Got Molested,11:15 AM,On a Monday,\"Philadelphia, PA\", \r\n",
      "8,S02E01,Charlie Gets Crippled,10:15 PM,On a Monday,\"Philadelphia, PA\",\r\n",
      "9,S02E02,The Gang Goes Jihad,03:30 PM,On a Monday,\"Philadelphia, PA\",\r\n",
      "10,S02E03,Dennis and Dee Go on Welfare,04:30 PM,On a Wednesday,\"Philadelphia, PA\",\r\n",
      "11,S02E04,\"Mac Bangs Dennis' Mom\",04:30 PM,On a Friday,\"Philadelphia, PA\",\r\n",
      "12,S02E05,Hundred Dollar Baby,11:30 PM,On a Tuesday,\"Philadelphia, PA\",\r\n",
      "13,S02E06,The Gang Gives Back,11:15 AM,On a Monday,\"Philadelphia, PA\",\r\n",
      "14,S02E07,The Gang Exploits a Miracle,11:00 AM,On a Tuesday,\"Philadelphia, PA\",\r\n",
      "15,S02E08,The Gang Runs for Office,10:15 AM,On a Wednesday,\"Philadelphia, PA\",\r\n",
      "16,S02E09,\"Charlie Goes America All Over Everybody's Ass\",02:30 AM,On a Saturday,\"Philadelphia, PA\",\r\n",
      "17,S02E10,Dennis and Dee Get a New Dad,8:00 AM,On a Monday,\"Philadelphia, PA\",\r\n",
      "18,S03E01,The Gang Finds a Dumpster Baby,4:30 PM,On a Wednesday,\"Philadelphia, PA\", \r\n",
      "19,S03E02,The Gang Gets Invincible,10:30 AM,On a Wednesday,\"Philadelphia, PA\", \r\n",
      "20,S03E03,\"Dennis and Dee's Mom is Dead\",12:00 PM,On a Monday,\"Philadelphia, PA\", \r\n",
      "21,S03E04,The Gang Gets Held Hostage,1:30 PM,On a Wednesday,\"Philadelphia, PA\", \r\n",
      "22,S03E05,The Aluminum Monster vs. Fatty Magoo,11:30 AM,On a Tuesday,\"Philadelphia, PA\", \r\n",
      "23,S03E06,The Gang Solves the North Korea Situation,4:00 PM,On a Monday,\"Philadelphia, PA\",\r\n",
      "24,S03E07,The Gang Sells Out,2:30 PM,On a Tuesday,\"Philadelphia, PA\",\r\n",
      "25,S03E08,Frank Sets Sweet Dee on Fire,6:00 PM,On a Wednesday,\"Philadelphia, PA\",\"I'm just palling around with the guys, how's anybody going to get hurt?\"\r\n",
      "26,S03E09,\"Sweet Dee's Dating a Retarded Person\",10:30 PM,On a Wednesday,\"Philadelphia, PA\",\"He could have like a little hand, or little foot or something.\"\r\n",
      "27,S03E10,Mac is a Serial Killer,10:00 AM,On a Thursday,\"Philadelphia, PA\",\"Maybe if you get up off that crack rock you can be Peppa Jack's best ho, Peppa Jack's trying to conduct some business here too, you with this cracker? In fact Peppa Jack about to cut somebody, Peppa Jack love Fragle Rock\" \r\n",
      "28,S03E11,Dennis Looks Like a Registered Sex Offender,3:30 PM,On a Tuesday,\"Philadelphia, PA\",\"Wendle Albright\"\r\n",
      "29,S03E12,The Gang Gets Whacked: Part 1,2:30 PM,On a Monday,\"Philadelphia, PA\",\r\n",
      "30,S03E13,The Gang Gets Whacked: Part 2,2:30 PM,On a Monday,\"Philadelphia, PA\",\"Time and Location continued from Part 1\"\r\n",
      "31,S03E14,Bums: Making a Mess All Over the City,10:15 AM,On a Monday,\"Philadelphia, PA\",\"Agent Jack Bower was born in a puddle of gasoline\"\r\n",
      "32,S03E15,The Gang Dances Their Asses Off,1:15 PM,On a Saturday,\"Philadelphia, PA\",\r\n",
      "33,S04E01,Mac and Dennis: Manhunters,1:30 PM,On a Wednesday,\"Philadelphia, PA\",\"This isn't the first time you have confused your life with the life of John Rambo\"\r\n",
      "34,S04E02,The Gang Solves the Gas Crisis,10:30 AM,On a Monday,\"Philadelphia, PA\",\r\n",
      "35,S04E03,\"America's Next Top Paddy's Billboard Model Contest\",9:30 AM,On a Monday,\"Philadelphia, PA\",\r\n",
      "36,S04E04,\"Mac's Banging the Waitress\",2:30 PM,On a Wednesday,\"Philadelphia, PA\",\"Project Badass\"\r\n",
      "37,S04E05,Mac and Charlie Die: Part 1,10:00 AM,On a Monday,\"Philadelphia, PA\",\r\n",
      "38,S04E06,Mac and Charlie Die: Part 2,10:00 AM,On a Monday,\"Philadelphia, PA\",\"Time and Location continued from Part 1, Zee glory hole, I'M NOT BURNING THE DUSTER!, Stop asking me to burn it, I'M NOT BURNING IT!\"\r\n",
      "39,S04E07,Who Pooped the Bed?,1:30 PM,On a Wednesday,\"Philadelphia, PA\",\"Artemis assists with the investigation\"\r\n",
      "40,S04E08,\"Paddy's Pub: The Worst Bar in Philadelphia\",4:42 PM,On a Tue sday,\"Philadelphia, PA\",\"The first thing I noticed about Paddy's Pub is its charm, it has none.\"\r\n",
      "41,S04E09,Dennis Reynolds: An Erotic Life,11:00 PM,On a Monday,\"Philadelphia, PA\",\r\n",
      "42,S04E10,Sweet Dee Has a Heart Attack,7:00 PM,On a Monday,\"Philadelphia, PA\",\"Lets my ass breath\"\r\n",
      "43,S04E11,The Gang Cracks the Liberty Bell,2:30 PM,On a Thursday,\"Philadelphia, PA\",\r\n",
      "44,S04E12,The Gang Gets Extreme: Home Makeover Edition,3:27 PM,On a Friday,\"Philadelphia, PA\",\r\n",
      "45,S04E13,The Nightman Cometh,7:15 PM,On a Friday,\"Philadelphia, PA\",\"You gotta pay the troll toll\"\r\n",
      "46,S05E01,The Gang Exploits the Mortgage Crisis,,,\"Philadelphia, PA\",\"Honey and Vinegar Real Estate Agents 215-555-0135, Vic Vinegar, Hugh Honey\" \r\n",
      "47,S05E02,The Gang Hits the Road,11:00 AM,On a Tuesday,\"Philadelphia, PA\",\r\n",
      "48,S05E03,The Great Recession,11;0 AM,On a Tuesday,\"Philadelphia, PA\",\r\n",
      "49,S05E04,The Gang Gives Frank an Intervention,11:00 AM,On a Wednesday,\"Philadelphia, PA\",\"I don't know how many years I have left, I'm gonna get real weird with it.\"\r\n",
      "50,S05E05,The Waitress is Getting Married,12:30 PM,On a Saturday,\"Philadelphia, PA\",\"Pop a quick H on this box\"\r\n",
      "51,S05E06,The World Series Defense,11:00 AM,On a Tuesday,\"Philadelphia, PA\",\"Green Man\"\r\n",
      "52,S05E07,The Gang Wrestles for the Troops,12:30 PM,On a Saturday,\"Philadelphia, PA\",\"That is Hulk Hogan's signature look, blond Chinese hair, and skin of a hotdog\"\r\n",
      "53,S05E08,\"Paddy's Pub: Home of the Original Kitten Mittens\",12:30 PM,On a Wednesday,\"Philadelphia, PA\",\"Kitten Mittens, you'll be smitten\"\r\n",
      "54,S05E09,Mac and Dennis Break Up,12:00 PM,On a Friday,\"Philadelphia, PA\",\r\n",
      "55,S05E10,The D.E.N.N.I.S. System,1:30 PM,On a Saturday,\"Philadelphia, PA\",\"Magnum Dong, Mantis Tobaggan M.D.\"\r\n",
      "56,S05E11,Mac and Charlie Write a Movie,1:30 PM,On a Thursday,\"Philadelphia, PA\",\r\n",
      "57,S05E12,The Gang Reignites the Rivalry,8:17 AM,On a Tuesday,\"Philadelphia, PA\",\"Flip flip flip-a-delphia\"\r\n",
      "58,S06E01,Mac Fights Gay Marriage,11:00 AM,On a Thursday,\"Philadelphia, PA\",\r\n",
      "59,S06E02,Dennis Gets Divorced,,,\"Philadelphia, PA\",\r\n",
      "60,S06E03,The Gang Buys a Boat,,,\"Philadelphia, PA\",\r\n",
      "61,S06E04,\"Mac's Big Break\",,,\"Philadelphia, PA\",\r\n",
      "62,S06E05,Mac and Chalie: White Trash,,,\"Philadelphia, PA\",\r\n",
      "63,S06E06,\"Mac's Mom Burns Her House Down\",,,\"Philadelphia, PA\",\r\n",
      "64,S06E07,Who Got Dee Pregnant?,,,\"Philadelphia, PA\",\r\n",
      "65,S06E08,The Gang Gets a New Member,,,\"Philadelphia, PA\",\r\n",
      "66,S06E09,\"Dee Reynolds: Shaping America's Youth\",,,\"Philadelphia, PA\",\r\n",
      "67,S06E10,Charlie Kelly: King of the Rats,,,\"Philadelphia, PA\",\r\n",
      "68,S06E11,The Gang Gets Stranded in the Woods,,,\"Atlantic City, NJ\",\r\n",
      "69,S06E12,Dee Gives Birth,,,\"Philadelphia, PA\",\r\n",
      "70,S06E13,A Very Sunny Christmas,,,\"Philadelphia, PA\",\r\n",
      "71,S07E01,\"Frank's Pretty Woman\",,,\"Philadelphia, PA\",\r\n",
      "72,S07E02,The Gang Goes to the Jersey Shore,,,\"Jersey Shore, NJ\",\r\n",
      "73,S07E03,\"Frank Reynolds' Little Beauties\",,,\"Philadelphia, PA\",\r\n",
      "74,S07E04,Sweet Dee Gets Audited,,,\"Philadelphia, PA\",\r\n",
      "75,S07E05,\"Frank's Brother\",,,\"Philadelphia, PA\",\r\n",
      "76,S07E06,The Storm of the Century,11:40 AM,On a Friday,\"Philadelphia, PA\",\"Storm coming? Hatchet coming!\"\r\n",
      "77,S07E07,Chardee MacDennis: The Game of Games,12:45 PM,On a Monday,\"Philadelphia, PA\", \r\n",
      "78,S07E08,The ANTI-Social Network,9:30 PM,On a Saturday,\"Philadelphia, PA\",\r\n",
      "79,S07E09,The Gang Gets Trapped,1:45 PM,On a Tuesday,\"Philadelphia, PA\", \r\n",
      "80,S07E10,How Mac Got Fat,12:20 PM,On a Sunday,\"Philadelphia, PA\",\r\n",
      "81,S07E11,Thunder Gun Express,2:15 PM,On a Wednesday,\"Philadelphia, PA\",\r\n",
      "82,S07E12,The High School Reunion,na,na,\"Philadelphia, PA\",\r\n",
      "83,S07E13,\"The High School Reunion Part 2: The Gang's Revenge\",na,na,\"Philadelphia, PA\",\r\n",
      "84,S08E01,Pop-Pop: The Final Solution,10:45 AM,On a Tuesday,\"Philadelphia, PA\",\r\n",
      "85,S08E02,The Gang Recycles Their Trash,11:40 AM,On a Monday,\"Philadelphia, PA\",\r\n",
      "86,S08E03,The Maureen Ponderosa Wedding Massacre,10:00 PM,On Friday the 13th,\"Somewhere outside of Philadelphia, PA\", \r\n",
      "87,S08E04,Charlie and Dee Find Love,,,\"Philadelphia, PA\",\r\n",
      "88,S08E05,The Gang Gets Analyzed,,,\"Philadelphia, PA\",\r\n",
      "89,S08E06,\"Charlie's Mom Has Cancer\",,,\"Philadelphia, PA\",\r\n",
      "90,S08E07,\"Frank's Back in Business\",,,\"Philadelphia, PA\",\r\n",
      "91,S08E08,Charlie Rules the World,,,\"Philadelphia, PA\",\r\n",
      "92,S08E09,The Gang Dines Out,8:17 PM,On a Saturday,\"Philadelphia, PA\",\r\n",
      "93,S08E10,Reynolds vs. Reynolds: The Cerial Defense,,,\"Philadelphia, PA\",\r\n",
      "94,S09E01,The Gang Broke Dee,,,\"Philadelphia, PA\",\r\n",
      "95,S09E02,Gun Fever Too: Still Hot,,,\"Philadelphia, PA\",\r\n",
      "96,S09E03,The Gang Tries Desperately to Win an Award,,,\"Philadelphia, PA\",\r\n",
      "97,S09E04,Mac and Dennis Buy a Timeshare,,,\"Philadelphia, PA\",\r\n",
      "98,S09E05,Mac Day,,,\"Philadelphia, PA\",\r\n",
      "99,S09E06,The Gang Saves the Day,,,\"Philadelphia, PA\",\r\n",
      "100,S09E07,The Gang Gets Quarantined,,,\"Philadelphia, PA\",\r\n",
      "101,S09E08,Flowers for Charlie,,,\"Philadelphia, PA\",\r\n",
      "102,S09E09,The Gang Makes Lethal Weapon 6,,,\"Philadelphia, PA\",\r\n",
      "103,S09E10,The Gang Squashes Their Beefs,,,\"Philadelphia, PA\",\r\n",
      "104,S10E01,The Gang Beats Boggs,,,\"Philadelphia, PA\",\r\n",
      "105,S10E02,The Gang Group Dates,,,\"Philadelphia, PA\",\r\n",
      "106,S10E03,Psycho Pete Returns,,,\"Philadelphia, PA\",\r\n",
      "107,S10E04,Charlie Work,,,\"Philadelphia, PA\",\r\n",
      "108,S10E05,The Gang Spies Like U.S.,,,\"Philadelphia, PA\",\r\n",
      "109,S10E06,The Gang Misses the Boat,,,\"Philadelphia, PA\",\r\n",
      "110,S10E07,Mac Kills His Dad,,,\"Philadelphia, PA\",\r\n",
      "111,S10E08,The Gang Goes on Family Fight,,,\"Philadelphia, PA\",\r\n",
      "112,S10E09,Frank Retires,,,\"Philadelphia, PA\",\r\n",
      "113,S10E10,Ass Kickers United: Mac and Chalie Join a Cult,,,\"Philadelphia, PA\",\r\n",
      "114,S11E01,Chardee MacDennis 2: Electric Boogaloo,10:20:00 AM,On a Monday,\"Philadelphia, PA\",\r\n",
      "115,S11E02,Frank Falls Out the Window,12:10:00 PM,On a Wednesday,\"Philadelphia, PA\",\r\n",
      "116,S11E03,The Gang Hits the Slopes,930am ,On a Friday,\"Poconos, PA\",\r\n",
      "117,S11E04,Dee Made a Smut Film,3:12 PM,On a Tuesday,\"Philadelphia, PA\",\r\n",
      "118,S11E05,Mac & Dennis Move to the Suburbs, ,,\"Philadelphia, PA\",\r\n",
      "119,S11E06,Being Frank,,,\"Philadelphia, PA\",\r\n",
      "120,S11E07,McPoyle vs. Ponderosa: The Trial of the Century,,,\"Philadelphia, PA\",\r\n",
      "121,S11E08,Charlie Catches a Leprechaun,,,\"Philadelphia, PA\",\r\n",
      "122,S11E09,The Gang Goes to Hell,,,\"Philadelphia, PA\",\r\n",
      "123,S11E10,The Gang Goes to Hell: Part Two,,,\"Philadelphia, PA\",\r\n"
     ]
    }
   ],
   "source": [
    "!cat data/raw/iasip5.csv"
   ]
  },
  {
   "cell_type": "code",
   "execution_count": 26,
   "metadata": {},
   "outputs": [
    {
     "name": "stdout",
     "output_type": "stream",
     "text": [
      "/home/tapew0rm/mtPy/iasip/iasip_py\r\n",
      "total 84\r\n",
      "drwxrwxr-x  8 tapew0rm tapew0rm  4096 Jun 13 19:00 .\r\n",
      "drwxrwxr-x  5 tapew0rm tapew0rm  4096 Mar  7 01:10 ..\r\n",
      "-rw-rw-r--  1 tapew0rm tapew0rm 32491 Jun 13 19:00 00_mt_iasip_notebook.ipynb\r\n",
      "-rw-rw-r--  1 tapew0rm tapew0rm  2923 Oct  4  2018 Charlie_cant_README.md\r\n",
      "drwxrwxr-x  6 tapew0rm tapew0rm  4096 Mar  6 22:20 data\r\n",
      "drwxrwxr-x  8 tapew0rm tapew0rm  4096 Jun 12 22:54 .git\r\n",
      "-rw-rw-r--  1 tapew0rm tapew0rm   962 Mar  6 22:33 .gitignore\r\n",
      "drwxrwxr-x  2 tapew0rm tapew0rm  4096 Jun 12 23:04 .ipynb_checkpoints\r\n",
      "drwxrwxr-x  2 tapew0rm tapew0rm  4096 Oct  6  2018 LICENSE\r\n",
      "drwxrwxr-x  3 tapew0rm tapew0rm  4096 Mar  7 01:24 notebooks\r\n",
      "-rw-rw-r--  1 tapew0rm tapew0rm   516 Mar  7 00:13 README.md\r\n",
      "drwxrwxr-x 12 tapew0rm tapew0rm  4096 Nov 12  2018 sunny\r\n",
      "-rw-r--r--  1 tapew0rm tapew0rm  8192 Jan 16 21:22 sunnyDB.db\r\n"
     ]
    }
   ],
   "source": [
    "!pwd && ls -al"
   ]
  },
  {
   "cell_type": "code",
   "execution_count": 37,
   "metadata": {},
   "outputs": [
    {
     "name": "stdout",
     "output_type": "stream",
     "text": [
      "/bin/sh: 1: cd: can't cd to iasip_py\r\n"
     ]
    }
   ],
   "source": [
    "!cd iasip_py && ls -al"
   ]
  },
  {
   "cell_type": "code",
   "execution_count": 46,
   "metadata": {
    "scrolled": true
   },
   "outputs": [
    {
     "name": "stdout",
     "output_type": "stream",
     "text": [
      "episode,season,e_title,e_time,day_of_week,location,keywords\r\n",
      "1,S01E01,The Gang Gets Racist,12:45 AM,On a Thursday,\"Philadelphia, PA\",\r\n",
      "2,S01E02,Charlie Wants an Abortion,11:45 AM,On a Tuesday,\"Philadelphia, PA\", \r\n",
      "3,S01E03,“Underage Drinking: A National Concern”,9:45 PM,On a Friday,\"Philadelphia, PA\",\r\n",
      "4,S01E04,Charlie Has Cancer,12:40 PM,On a Tuesday,\"Philadelphia, PA\",\r\n",
      "5,S01E05,Gun Fever,11:25 AM,On a Friday,\"Philadelphia, PA\", \r\n",
      "6,S01E06,The Gang Finds a Dead Guy,10:25 AM,On a Friday,\"Philadelphia, PA\",\r\n",
      "7,S01E07,Charlie Got Molested,11:15 AM,On a Monday,\"Philadelphia, PA\", \r\n",
      "8,S02E01,Charlie Gets Crippled,10:15 PM,On a Monday,\"Philadelphia, PA\",\r\n",
      "9,S02E02,The Gang Goes Jihad,03:30 PM,On a Monday,\"Philadelphia, PA\",\r\n",
      "10,S02E03,Dennis and Dee Go on Welfare,04:30 PM,On a Wednesday,\"Philadelphia, PA\",\r\n",
      "11,S02E04,“Mac Bangs Dennis' Mom”,04:30 PM,On a Friday,\"Philadelphia, PA\",\r\n",
      "12,S02E05,Hundred Dollar Baby,11:30 PM,On a Tuesday,\"Philadelphia, PA\",\r\n",
      "13,S02E06,The Gang Gives Back,11:15 AM,On a Monday,\"Philadelphia, PA\",\r\n",
      "14,S02E07,The Gang Exploits a Miracle,11:00 AM,On a Tuesday,\"Philadelphia, PA\",\r\n",
      "15,S02E08,The Gang Runs for Office,10:15 AM,On a Wednesday,\"Philadelphia, PA\",\r\n",
      "16,S02E09,\"Charlie Goes America All Over Everybody's Ass\",02:30 AM,On a Saturday,\"Philadelphia, PA\",\r\n",
      "17,S02E10,Dennis and Dee Get a New Dad,8:00 AM,On a Monday,\"Philadelphia, PA\",\r\n",
      "18,S03E01,The Gang Finds a Dumpster Baby,4:30 PM,On a Wednesday,\"Philadelphia, PA\", \r\n",
      "19,S03E02,The Gang Gets Invincible,10:30 AM,On a Wednesday,\"Philadelphia, PA\", \r\n",
      "20,S03E03,Dennis and Dee's Mom is Dead,12:00 PM,On a Monday,\"Philadelphia, PA\", \r\n",
      "21,S03E04,The Gang Gets Held Hostage,1:30 PM,On a Wednesday,\"Philadelphia, PA\", \r\n",
      "22,S03E05,The Aluminum Monster vs. Fatty Magoo,11:30 AM,On a Tuesday,\"Philadelphia, PA\", \r\n",
      "23,S03E06,The Gang Solves the North Korea Situation,4:00 PM,On a Monday,\"Philadelphia, PA\",\r\n",
      "24,S03E07,The Gang Sells Out,2:30 PM,On a Tuesday,\"Philadelphia, PA\",\r\n",
      "25,S03E08,Frank Sets Sweet Dee on Fire,6:00 PM,On a Wednesday,\"Philadelphia, PA\",\"I'm just palling around with the guys, how's anybody going to get hurt?\"\r\n",
      "26,S03E09,\"Sweet Dee's Dating a Retarded Person\",10:30 PM,On a Wednesday,\"Philadelphia, PA\",\"He could have like a little hand, or little foot or something.\"\r\n",
      "27,S03E10,Mac is a Serial Killer,10:00 AM,On a Thursday,\"Philadelphia, PA\",\"Maybe if you get up off that crack rock you can be Peppa Jack's best ho, Peppa Jack's trying to conduct some business here too, you with this cracker? In fact Peppa Jack about to cut somebody, Peppa Jack love Fraggle Rock \"\r\n",
      "28,S03E11,Dennis Looks Like a Registered Sex Offender,3:30 PM,On a Tuesday,\"Philadelphia, PA\",Wendel Albright\r\n",
      "29,S03E12,“The Gang Gets Whacked: Part 1”,2:30 PM,On a Monday,\"Philadelphia, PA\",\r\n",
      "30,S03E13,“The Gang Gets Whacked: Part 2”,2:30 PM,On a Monday,\"Philadelphia, PA\",Time and Location continued from Part 1\r\n",
      "31,S03E14,Bums: Making a Mess All Over the City,10:15 AM,On a Monday,\"Philadelphia, PA\",Agent Jack Bower was born in a puddle of gasoline\r\n",
      "32,S03E15,The Gang Dances Their Asses Off,1:15 PM,On a Saturday,\"Philadelphia, PA\",\r\n",
      "33,S04E01,“Mac and Dennis: Manhunters”,1:30 PM,On a Wednesday,\"Philadelphia, PA\",This isn't the first time you have confused your life with the life of John Rambo\r\n",
      "34,S04E02,The Gang Solves the Gas Crisis,10:30 AM,On a Monday,\"Philadelphia, PA\",\r\n",
      "35,S04E03,“America's Next Top Paddy's Billboard Model Contest”,9:30 AM,On a Monday,\"Philadelphia, PA\",\r\n",
      "36,S04E04,“Mac's Banging the Waitress”,2:30 PM,On a Wednesday,\"Philadelphia, PA\",Project Badass\r\n",
      "37,S04E05,“Mac and Charlie Die: Part 1”,10:00 AM,On a Monday,\"Philadelphia, PA\",\r\n",
      "38,S04E06,“Mac and Charlie Die: Part 2”,10:00 AM,On a Monday,\"Philadelphia, PA\",\"Time and Location continued from Part 1, Zee glory hole, I'M NOT BURNING THE DUSTER!, Stop asking me to burn it, I'M NOT BURNING IT!\"\r\n",
      "39,S04E07,“Who Pooped the Bed?”,1:30 PM,On a Wednesday,\"Philadelphia, PA\",Artemis assists with the investigation\r\n",
      "40,S04E08,“Paddy's Pub: The Worst Bar in Philadelphia”,4:42 PM,On a Tuesday,\"Philadelphia, PA\",\"The first thing I noticed about Paddy's Pub is its charm, it has none.\"\r\n",
      "41,S04E09,“Dennis Reynolds: An Erotic Life”,11:00 PM,On a Monday,\"Philadelphia, PA\",\r\n",
      "42,S04E10,Sweet Dee Has a Heart Attack,7:00 PM,On a Monday,\"Philadelphia, PA\",Lets my ass breath\r\n",
      "43,S04E11,The Gang Cracks the Liberty Bell,2:30 PM,On a Thursday,\"Philadelphia, PA\",\r\n",
      "44,S04E12,“The Gang Gets Extreme: Home Makeover Edition”,3:27 PM,On a Friday,\"Philadelphia, PA\",\r\n",
      "45,S04E13,The Nightman Cometh,7:15 PM,On a Friday,\"Philadelphia, PA\",You gotta pay the troll toll\r\n",
      "46,S05E01,The Gang Exploits the Mortgage Crisis,11:30 AM,On a Tuesday,\"Philadelphia, PA\",\"Honey and Vinegar Real Estate Agents 215-555-0135, Vic Vinegar, Hugh Honey \"\r\n",
      "47,S05E02,The Gang Hits the Road,11:00 AM,On a Tuesday,\"Philadelphia, PA\",\r\n",
      "48,S05E03,The Great Recession,11;0 AM,On a Tuesday,\"Philadelphia, PA\",\r\n",
      "49,S05E04,The Gang Gives Frank an Intervention,11:00 AM,On a Wednesday,\"Philadelphia, PA\",\"I don't know how many years I have left, I'm gonna get real weird with it.\"\r\n",
      "50,S05E05,The Waitress is Getting Married,12:30 PM,On a Saturday,\"Philadelphia, PA\",Pop a quick H on this box\r\n",
      "51,S05E06,The World Series Defense,11:00 AM,On a Tuesday,\"Philadelphia, PA\",Green Man\r\n",
      "52,S05E07,The Gang Wrestles for the Troops,12:30 PM,On a Saturday,\"Philadelphia, PA\",\"That is Hulk Hogan's signature look, blond Chinese hair, and skin of a hot dog\"\r\n",
      "53,S05E08,“Paddy's Pub: Home of the Original Kitten Mittens”,12:30 PM,On a Wednesday,\"Philadelphia, PA\",\"Kitten Mittens, you'll be smitten\"\r\n",
      "54,S05E09,Mac and Dennis Break Up,12:00 PM,On a Friday,\"Philadelphia, PA\",\r\n",
      "55,S05E10,The D.E.N.N.I.S. System,1:30 PM,On a Saturday,\"Philadelphia, PA\",\"Magnum Dong, Mantis Tobaggan M.D.\"\r\n",
      "56,S05E11,Mac and Charlie Write a Movie,1:30 PM,On a Thursday,\"Philadelphia, PA\",\r\n",
      "57,S05E12,The Gang Reignites the Rivalry,8:17 AM,On a Tuesday,\"Philadelphia, PA\",Flip flip flip-a-delphia\r\n",
      "58,S06E01,Mac Fights Gay Marriage,11:00 AM,On a Thursday,\"Philadelphia, PA\",\r\n",
      "59,S06E02,Dennis Gets Divorced,7:30 AM,On a Monday,\"Philadelphia, PA\",\r\n",
      "60,S06E03,The Gang Buys a Boat,10:00 AM,On a Saturday,\"Philadelphia, PA\",\r\n",
      "61,S06E04,Mac's Big Break,9:30 AM,On a Thursday ,\"Philadelphia, PA\",\r\n",
      "62,S06E05,“Mac and Charlie: White Trash”,12:30 PM,On a Saturday,\"Philadelphia, PA\",\r\n",
      "63,S06E06,“Mac's Mom Burns Her House Down”,12:00 PM,On a Thursday,\"Philadelphia, PA\",\r\n",
      "64,S06E07,Who Got Dee Pregnant?,5:30 PM,On a Saturday,\"Philadelphia, PA\",\r\n",
      "65,S06E08,The Gang Gets a New Member,11:30 AM,On a Monday,\"Philadelphia, PA\",\r\n",
      "66,S06E09,“Dee Reynolds: Shaping America's Youth”,8:30 AM,On a Monday,\"Philadelphia, PA\",\r\n",
      "67,S06E10,“Charlie Kelly: King of the Rats”,10:00 AM,On a Tuesday,\"Philadelphia, PA\",What is your spaghetti policy here?\r\n",
      "68,S06E11,The Gang Gets Stranded in the Woods,3:30 PM,On a Saturday,Somewhere in Jersey, Atlantic City NJ\r\n",
      "69,S06E12,Dee Gives Birth,9:30 AM,On a Friday,\"Philadelphia, PA\",\r\n",
      "70,S06E13,A Very Sunny Christmas,,,\"Philadelphia, PA\",\r\n",
      "71,S07E01,“Frank's Pretty Woman”,11:30 AM,On a Monday,\"Philadelphia, PA\",\r\n",
      "72,S07E02,The Gang Goes to the Jersey Shore,10:30 AM,On a Friday,\"Philadelphia, PA\",\"“The gang goes down to the shore,  rumham”\"\r\n",
      "73,S07E03,“Frank Reynolds' Little Beauties”,12:00 PM,On a Saturday,\"Philadelphia, PA\",\r\n",
      "74,S07E04,Sweet Dee Gets Audited,11:15 AM,On aThursday,\"Philadelphia, PA\",\r\n",
      "75,S07E05,“Frank's Brother”,3:50 PM,On a Wednesday,\"Philadelphia, PA\",\r\n",
      "76,S07E06,The Storm of the Century,11:40 AM,On a Friday,\"Philadelphia, PA\",Storm coming? Hatchet coming!\r\n",
      "77,S07E07,“Chardee MacDennis: The Game of Games”,12:45 PM,On a Monday,\"Philadelphia, PA\", \r\n",
      "78,S07E08,The ANTI-Social Network,9:30 PM,On a Saturday,\"Philadelphia, PA\",\r\n",
      "79,S07E09,The Gang Gets Trapped,1:45 PM,On a Tuesday,\"Philadelphia, PA\", \r\n",
      "80,S07E10,How Mac Got Fat,12:20 PM,On a Sunday,\"Philadelphia, PA\",\r\n",
      "81,S07E11,Thunder Gun Express,2:15 PM,On a Wednesday,\"Philadelphia, PA\",\r\n",
      "82,S07E12,The High School Reunion,7:10 PM,On a Friday,\"Philadelphia, PA\",\r\n",
      "83,S07E13,“The High School Reunion Part 2: The Gang's Revenge”,7:10 PM,On a Friday,\"Philadelphia, PA\",\r\n",
      "84,S08E01,“Pop-Pop: The Final Solution”,10:45 AM,On a Tuesday,\"Philadelphia, PA\",\r\n",
      "85,S08E02,The Gang Recycles Their Trash,11:40 AM,On a Monday,\"Philadelphia, PA\",\r\n",
      "86,S08E03,The Maureen Ponderosa Wedding Massacre,10:00 PM,On Friday the 13th,\"Somewhere Outside of Philadelphia, PA\", \r\n",
      "87,S08E04,Charlie and Dee Find Love,11:30 AM,On a Friday,\"Philadelphia, PA\",\r\n",
      "88,S08E05,The Gang Gets Analyzed,11:00 AM,On aThursday,\"Philadelphia, PA\",With a plastic bag for a helmet!\r\n",
      "89,S08E06,Charlie's Mom Has Cancer,11:20 AM,On a Saturday,\"Philadelphia, PA\",\t\r\n",
      "90,S08E07,“Frank's Back in Business”,11:15 AM,On a Friday,\"Philadelphia, PA\",\r\n",
      "91,S08E08,Charlie Rules the World,10:30 AM,On aTuesday,\"Philadelphia, PA\",\r\n",
      "92,S08E09,The Gang Dines Out,8:17 PM,On a Saturday,\"Philadelphia, PA\",\r\n",
      "93,S08E10,“Reynolds vs. Reynolds: The Cereal Defense”,10:19 AM,On a Friday,\"Philadelphia, PA\",\r\n",
      "94,S09E01,The Gang Broke Dee,12:15 PM,On a Wednesday,\"Philadelphia, PA\",\r\n",
      "95,S09E02,“Gun Fever Too: Still Hot”,9:35 AM,On a Tuesday,\"Philadelphia, PA\",\r\n",
      "96,S09E03,The Gang Tries Desperately to Win an Award,2:30 PM,On a Friday,\"Philadelphia, PA\",\r\n",
      "97,S09E04,Mac and Dennis Buy a Timeshare,11:45 AM,On a Thursday,\"Philadelphia, PA\",\"“We don’t get got, we go get”\"\r\n",
      "98,S09E05,Mac Day,11:55 PM,On a Saturday,\"Philadelphia, PA\",\r\n",
      "99,S09E06,The Gang Saves the Day,12:15 PM,On a Wednesday,\"Philadelphia, PA\",\r\n",
      "100,S09E07,The Gang Gets Quarantined,11:30 AM,On a Monday,\"Philadelphia, PA\",\r\n",
      "101,S09E08,Flowers for Charlie,9:14 AM,On a Wednesday,\"Philadelphia, PA\",\r\n",
      "102,S09E09,The Gang Makes Lethal Weapon 6,Unknown Time,Unknown Time,\"Philadelphia, PA\",\r\n",
      "103,S09E10,The Gang Squashes Their Beefs,1:00 PM,On a Wednesday,\"Philadelphia, PA\",\r\n",
      "104,S10E01,The Gang Beats Boggs,9:30 AM,On a Thursday,\"Philadelphia, PA\",\"“I inverted the bird, and lander her safely in an open field”\"\r\n",
      "105,S10E02,The Gang Group Dates,11;0 AM,On a Tuesday,\"Philadelphia, PA\",\r\n",
      "106,S10E03,Psycho Pete Returns,3:00 PM,On a Monday,\"Philadelphia, PA\",\r\n",
      "107,S10E04,Charlie Work,9:00 AM,On a Monday,\"Philadelphia, PA\",\r\n",
      "108,S10E05,The Gang Spies Like U.S.,10:00 AM,On a Wednesday,\"Philadelphia, PA\",\r\n",
      "109,S10E06,The Gang Misses the Boat,3:30 PM,On a Friday,\"Philadelphia, PA\",\r\n",
      "110,S10E07,Mac Kills His Dad,5:05 PM,On a Monday,\"Philadelphia, PA\",\r\n",
      "111,S10E08,The Gang Goes on Family Fight,1:45 PM,On a Tuesday,\"Philadelphia, PA\",\r\n",
      "112,S10E09,Frank Retires,10:30 AM,On a Wednesday,\"Philadelphia, PA\",\r\n",
      "113,S10E10,Ass Kickers United: Mac and Charlie Join a Cult,10:00 AM,On a Wednesday,\"Philadelphia, PA\",\r\n",
      "114,S11E01,“Chardee MacDennis 2: Electric Boogaloo”,10:20 AM,On a Monday,\"Philadelphia, PA\",\r\n",
      "115,S11E02,Frank Falls Out the Window,12:10 PM,On a Wednesday,\"Philadelphia, PA\",\r\n",
      "116,S11E03,The Gang Hits the Slopes,9:30 AM,On a Friday,\"Poconos, PA\",\r\n",
      "117,S11E04,Dee Made a Smut Film,3:12 PM,On a Tuesday,\"Philadelphia, PA\",\r\n",
      "118,S11E05,Mac & Dennis Move to the Suburbs,10:30 AM,On a Thursday,\"Philadelphia, PA\",\r\n",
      "119,S11E06,Being Frank,11:00 AM,On a Friday,\"Philadelphia, PA\",\r\n",
      "120,S11E07,“McPoyle vs. Ponderosa: The Trial of the Century”,7:54 AM,On a Friday,\"Philadelphia, PA\",Bird Law\r\n",
      "121,S11E08,Charlie Catches a Leprechaun,10:00 AM,On a Wednesday,\"Philadelphia, PA\",\r\n",
      "122,S11E09,The Gang Goes to Hell,Unknown Time,Unknown Time,Unknown Place,\r\n",
      "123,S11E10,“The Gang Goes to Hell: Part Two”,Unknown Time,Unknown Time,Unknown Place,\r\n"
     ]
    }
   ],
   "source": [
    "!cat data/raw/iasip4.csv"
   ]
  },
  {
   "cell_type": "code",
   "execution_count": 47,
   "metadata": {
    "scrolled": false
   },
   "outputs": [],
   "source": [
    "raw_data_path = os.path.join(os.path.pardir,'data','raw')\n",
    "iasip_file_path = os.path.join(raw_data_path, 'iasip4.csv')\n",
    "update_file_path = os.path.join(raw_data_path, 'iasip3.csv')"
   ]
  },
  {
   "cell_type": "code",
   "execution_count": null,
   "metadata": {
    "scrolled": true
   },
   "outputs": [],
   "source": [
    "iasip_df = pd.read_csv('data/raw/iasip4.csv', index_col='episode', sep=',')   \n",
    "update_df = pd.read_csv('data/raw/iasip3.csv', index_col='episode', sep=',')  "
   ]
  },
  {
   "cell_type": "code",
   "execution_count": null,
   "metadata": {
    "scrolled": true
   },
   "outputs": [],
   "source": [
    "iasip_df = pd.read_csv('data/raw/iasip5.csv', index_col='episode')\n",
    "update_df = pd.read_csv('data/raw/iasip3.csv', index_col='episode')"
   ]
  },
  {
   "cell_type": "code",
   "execution_count": 7,
   "metadata": {},
   "outputs": [
    {
     "name": "stdout",
     "output_type": "stream",
     "text": [
      "episode,season,e_title,e_time,day_of_week,location,keywords\r\n",
      "124,S12E01,The Gang Turns Black,9:15 PM,On a Friday,\"Philadelphia, PA\",\r\n",
      "125,S12E02,The Gang Goes to a Water Park,9:58 AM,On a Saturday,\"Philadelphia, PA\",\"Whats that rascal Charlie up to this time?\"\r\n",
      "126,S12E03,\"Old Lady House: A situation Comedy\",12:00 PM,On a Tuesday,\"Philadelphia, PA\",\r\n",
      "127,S12E04,\"Wolf Cola: A Public Relations Nightmare\",10:05 AM,On a Monday,\"Philadelphia, PA\",\"Go for it go for it go, go for it go for it go.\"\r\n",
      "128,S12E05,Making Dennis Reynolds a Murderer,12:02 AM 22-Oct-2016,On a Saturday,\"Philadelphia, PA\",\r\n",
      "129,S12E06,\"Hero or Hate Crime?\",11:41 AM,On a Monday,\"Philadelphia, PA\",\r\n",
      "130,S12E07,PTSDee,15:25,On a Wednesday,\"Fallujah, Iraq\"\r\n",
      "131,S12E08,The Gang Tends Bar,11:00 AM,\"On Valentine's Day\",\"Philadelphia, PA\",\r\n",
      "132,S12E09,\"A Cricket's Tale\",3:10 PM,On a Sunday,\"Philadelphia, PA\",\r\n",
      "133,S12E10,\"Dennis' Double Life\",11:30 AM,On a Thursday,\"Philadelphia, PA\",\r\n",
      "134,S13E01,\"The Gang Makes Paddy's Great Again\",9:30 PM,On a Thursday,\"Philadelphia, PA\",\r\n",
      "135,S13E02,The Gang Escapes,2:30 PM,On a Saturday,\"Philadelphia, PA\",\r\n",
      "136,S13E03,\"The Gang Beats Boggs: Ladies Reboot\",12:00 PM,On a Thursday,\"Los Angeles, CA\",\r\n",
      "137,S13E04,\"Time's Up for the Gang\",10:00 AM,On a Saturday,\"Philadelphia, PA\",\r\n",
      "138,S13E05,\"The Gang Gets New Wheels\",3:15 PM,On a Tuesday,\"Philadelphia, PA\", \r\n",
      "139,S13E06,The Gang Solves the Bathroom Problem, 2:00 AM, On a Friday, \"Philadelphia, PA\", \r\n",
      "140,S13E07, The Gang Does a Clip Show, 2:00 PM, On a Tuesday, \"Philadelphia, PA\",\r\n",
      "141,S13E08,\"Charlie's Home Alone\", 2:40 PM, On a Saturday One Year Ago,  \"Philadelphia, PA\",  \r\n",
      "142,S13E09,The Gang Wins the Big Game, 2:40 PM, On a Saturday One Year Ago, \"Philadelphia, PA\",\r\n",
      "143,S13E10,Mac Finds His Pride, 10:15 AM, On a Saturday, \"Philadelphia, PA\""
     ]
    }
   ],
   "source": [
    "!cat data/raw/iasip3.csv"
   ]
  },
  {
   "cell_type": "code",
   "execution_count": null,
   "metadata": {
    "scrolled": false
   },
   "outputs": [],
   "source": [
    "type(iasip_df)"
   ]
  },
  {
   "cell_type": "code",
   "execution_count": null,
   "metadata": {},
   "outputs": [],
   "source": [
    "type(update_df)"
   ]
  },
  {
   "cell_type": "code",
   "execution_count": null,
   "metadata": {
    "scrolled": true
   },
   "outputs": [],
   "source": [
    "iasip_df.info()"
   ]
  },
  {
   "cell_type": "code",
   "execution_count": null,
   "metadata": {
    "scrolled": false
   },
   "outputs": [],
   "source": [
    "iasip_df.head(11)"
   ]
  },
  {
   "cell_type": "code",
   "execution_count": null,
   "metadata": {
    "scrolled": false
   },
   "outputs": [],
   "source": [
    "update_df.tail(11)"
   ]
  },
  {
   "cell_type": "code",
   "execution_count": null,
   "metadata": {
    "scrolled": false
   },
   "outputs": [],
   "source": [
    "iasip_df.columns"
   ]
  },
  {
   "cell_type": "code",
   "execution_count": null,
   "metadata": {
    "scrolled": false
   },
   "outputs": [],
   "source": [
    "iasip_df[['e_title', 'season','day_of_week']]"
   ]
  },
  {
   "cell_type": "code",
   "execution_count": null,
   "metadata": {
    "scrolled": true
   },
   "outputs": [],
   "source": [
    "iasip_df.e_title"
   ]
  },
  {
   "cell_type": "code",
   "execution_count": null,
   "metadata": {
    "scrolled": false
   },
   "outputs": [],
   "source": [
    "iasip_df['season']"
   ]
  },
  {
   "cell_type": "code",
   "execution_count": null,
   "metadata": {
    "scrolled": true
   },
   "outputs": [],
   "source": [
    "iasip_df[['season', 'e_title']]"
   ]
  },
  {
   "cell_type": "code",
   "execution_count": null,
   "metadata": {
    "scrolled": false
   },
   "outputs": [],
   "source": [
    "df = pd.concat([iasip_df, update_df], axis=0, sort=True, ignore_index=True)               "
   ]
  },
  {
   "cell_type": "code",
   "execution_count": null,
   "metadata": {
    "scrolled": false
   },
   "outputs": [],
   "source": [
    "#keywords can have null values, all other values should equal total entries\n",
    "df.info()"
   ]
  },
  {
   "cell_type": "code",
   "execution_count": null,
   "metadata": {
    "scrolled": false
   },
   "outputs": [],
   "source": [
    "#find which episodes are missing values in the e_time column\n",
    "df[df.e_time.isnull()]"
   ]
  },
  {
   "cell_type": "code",
   "execution_count": null,
   "metadata": {
    "scrolled": true
   },
   "outputs": [],
   "source": [
    "df.tail(21)"
   ]
  },
  {
   "cell_type": "code",
   "execution_count": null,
   "metadata": {
    "scrolled": false
   },
   "outputs": [],
   "source": [
    "print(update_df.columns)\n",
    "print(iasip_df.columns)\n",
    "print(df.columns)"
   ]
  },
  {
   "cell_type": "code",
   "execution_count": null,
   "metadata": {},
   "outputs": [],
   "source": [
    "type(df)"
   ]
  },
  {
   "cell_type": "code",
   "execution_count": null,
   "metadata": {
    "scrolled": true
   },
   "outputs": [],
   "source": [
    "season_7 = df.loc[71:83, ['season', 'e_title', 'location']]\n",
    "print(season_7)"
   ]
  },
  {
   "cell_type": "code",
   "execution_count": null,
   "metadata": {
    "scrolled": false
   },
   "outputs": [],
   "source": [
    "season_12 = df.loc[124:133, ['season', 'e_title', 'location']]\n",
    "print(season_12)"
   ]
  },
  {
   "cell_type": "code",
   "execution_count": null,
   "metadata": {
    "scrolled": true
   },
   "outputs": [],
   "source": [
    "df.iloc[71:83,1:2]"
   ]
  },
  {
   "cell_type": "code",
   "execution_count": null,
   "metadata": {
    "scrolled": true
   },
   "outputs": [],
   "source": [
    "#should return season 7\n",
    "df.loc[71:83, ['season', 'e_title']]"
   ]
  },
  {
   "cell_type": "code",
   "execution_count": null,
   "metadata": {
    "scrolled": true
   },
   "outputs": [],
   "source": [
    "#this should show every day of the week plus three outliers\n",
    "df.day_of_week.value_counts()"
   ]
  },
  {
   "cell_type": "code",
   "execution_count": null,
   "metadata": {
    "scrolled": true
   },
   "outputs": [],
   "source": [
    "df.location.value_counts()"
   ]
  },
  {
   "cell_type": "code",
   "execution_count": null,
   "metadata": {
    "scrolled": true
   },
   "outputs": [],
   "source": [
    "df[df.location.isnull()]"
   ]
  },
  {
   "cell_type": "code",
   "execution_count": null,
   "metadata": {
    "scrolled": true
   },
   "outputs": [],
   "source": [
    "df.day_of_week.value_counts().plot(kind='bar', title='Epiode by Day of Week')"
   ]
  },
  {
   "cell_type": "code",
   "execution_count": null,
   "metadata": {
    "scrolled": false
   },
   "outputs": [],
   "source": [
    "df.location.value_counts().plot(kind='pie', title='Epiode by Location')"
   ]
  },
  {
   "cell_type": "code",
   "execution_count": null,
   "metadata": {},
   "outputs": [],
   "source": []
  },
  {
   "cell_type": "code",
   "execution_count": null,
   "metadata": {},
   "outputs": [],
   "source": []
  }
 ],
 "metadata": {
  "kernelspec": {
   "display_name": "Python 3",
   "language": "python",
   "name": "python3"
  },
  "language_info": {
   "codemirror_mode": {
    "name": "ipython",
    "version": 3
   },
   "file_extension": ".py",
   "mimetype": "text/x-python",
   "name": "python",
   "nbconvert_exporter": "python",
   "pygments_lexer": "ipython3",
   "version": "3.6.5"
  }
 },
 "nbformat": 4,
 "nbformat_minor": 2
}
