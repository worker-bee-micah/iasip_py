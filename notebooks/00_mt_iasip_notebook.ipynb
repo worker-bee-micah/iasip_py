{
 "cells": [
  {
   "cell_type": "markdown",
   "metadata": {},
   "source": [
    "#IASIP: The Gang Codes Python"
   ]
  },
  {
   "cell_type": "code",
   "execution_count": null,
   "metadata": {
    "scrolled": true
   },
   "outputs": [],
   "source": [
    "%%HTML\n",
    "<i> Pondy is the coolest!</i>\n",
    "<img src=\"https://i.imgur.com/MyrwEFn.jpg\" alt=\"hand drawn image of Bill Pondarosa at his sisters wedding.\"></img>"
   ]
  },
  {
   "cell_type": "code",
   "execution_count": 2,
   "metadata": {
    "scrolled": true
   },
   "outputs": [
    {
     "data": {
      "text/html": [
       "<i> \"With a plastic bag for a helmet!!!\" \"</i>\n",
       "<img src=\"https://i.imgur.com/Sthqe90.jpg\" alt=\"hand drawn image of Frank at the Analyst's Office, ink on paper\"></img>"
      ],
      "text/plain": [
       "<IPython.core.display.HTML object>"
      ]
     },
     "metadata": {},
     "output_type": "display_data"
    }
   ],
   "source": [
    "%%HTML\n",
    "<i> \"With a plastic bag for a helmet!!!\" \"</i>\n",
    "<img src=\"https://i.imgur.com/Sthqe90.jpg\" alt=\"hand drawn image of Frank at the Analyst's Office, ink on paper\"></img>"
   ]
  },
  {
   "cell_type": "code",
   "execution_count": null,
   "metadata": {
    "scrolled": false
   },
   "outputs": [],
   "source": [
    "%%HTML\n",
    "<i> You gotta takem off son!!!</i>\n",
    "<img src=\"https://i.imgur.com/WC4O9zu.jpg\" alt=\"Z remembers some favorite jean shorts.\"></img>"
   ]
  },
  {
   "cell_type": "code",
   "execution_count": null,
   "metadata": {
    "scrolled": true
   },
   "outputs": [],
   "source": [
    "%%HTML\n",
    "<i> What the hell went on back there?!</i>\n",
    "<img src=\"https://i.imgur.com/LjRBq6g.jpg\" alt=\"Hoss Bonaventure, C.E.O.\"></img>"
   ]
  },
  {
   "cell_type": "code",
   "execution_count": 66,
   "metadata": {
    "scrolled": true
   },
   "outputs": [
    {
     "data": {
      "text/plain": [
       "['/home/tapew0rm/mtPy/py_iasip']"
      ]
     },
     "execution_count": 66,
     "metadata": {},
     "output_type": "execute_result"
    }
   ],
   "source": [
    "%%!\n",
    "cd ~/mtPy/py_iasip/\n",
    "pwd\n",
    "#cat iasip.sql\n",
    "#determine if data file is valid. \n",
    "#use iasip[2,4,5,etc].csv and iasip.3.csv to validate updates before merging into iasip.sql file"
   ]
  },
  {
   "cell_type": "code",
   "execution_count": 1,
   "metadata": {},
   "outputs": [],
   "source": [
    "import pandas as pd\n",
    "import numpy as np\n",
    "import os"
   ]
  },
  {
   "cell_type": "markdown",
   "metadata": {
    "scrolled": true
   },
   "source": [
    "##Use the following steps to determine where data is missing in the data .csv files. \n",
    "'''\n",
    "Once corrected, build a iasip.sql file.\n",
    "Create a dataframe to determine if merging the two update files will correct missing\n",
    "values before updating\n",
    "Files: iasip3.csv contains seasons 12 & 13 data, practice merging data frames here\n",
    "Find which rows in these files are showing null (NaN) values. which data file is the most correct? \n",
    "Once the data files are corrected, use this same procedure to check if the update file is correct before exporting to the processed file directory."
   ]
  },
  {
   "cell_type": "code",
   "execution_count": 67,
   "metadata": {
    "scrolled": true
   },
   "outputs": [],
   "source": [
    "raw_data_path = os.path.join(os.path.pardir,'data','raw')\n",
    "iasip_file_path = os.path.join(raw_data_path, 'iasip.csv')\n",
    "iasip2_file_path = os.path.join(raw_data_path, 'iasip2.csv')\n",
    "iasip3_file_path = os.path.join(raw_data_path, 'iasip3.csv')\n",
    "iasip4_file_path = os.path.join(raw_data_path, 'iasip4.csv')\n",
    "iasip5_file_path = os.path.join(raw_data_path, 'iasip5.csv')"
   ]
  },
  {
   "cell_type": "code",
   "execution_count": null,
   "metadata": {
    "scrolled": true
   },
   "outputs": [],
   "source": [
    "iasip_df = pd.read_csv(iasip_file_path, index_col=['episode'])\n",
    "iasip2_df = pd.read_csv(iasip2_file_path, index_col=['episode'])\n",
    "iasip3_df = pd.read_csv(iasip3_file_path, index_col=['episode'])\n",
    "iasip4_df = pd.read_csv(iasip4_file_path, index_col=['episode'])\n",
    "iasip5_df = pd.read_csv(iasip5_file_path, index_col=['episode'])"
   ]
  },
  {
   "cell_type": "code",
   "execution_count": null,
   "metadata": {},
   "outputs": [],
   "source": [
    "iasip_df = pd.read_csv('data/raw/iasip.csv', index_col='episode')\n",
    "iasip2_df = pd.read_csv('data/raw/iasip2.csv', index_col=['episode'])\n",
    "iasip3_df = pd.read_csv('data/raw/iasip3.csv', index_col=['episode'])\n",
    "iasip4_df = pd.read_csv('data/raw/iasip4.csv', index_col=['episode'])\n",
    "iasip5_df = pd.read_csv('data/raw/iasip5.csv', index_col=['episode'])"
   ]
  },
  {
   "cell_type": "code",
   "execution_count": 26,
   "metadata": {
    "scrolled": false
   },
   "outputs": [
    {
     "data": {
      "text/plain": [
       "pandas.core.frame.DataFrame"
      ]
     },
     "execution_count": 26,
     "metadata": {},
     "output_type": "execute_result"
    }
   ],
   "source": [
    "type(iasip_df)"
   ]
  },
  {
   "cell_type": "code",
   "execution_count": 55,
   "metadata": {
    "scrolled": true
   },
   "outputs": [
    {
     "data": {
      "text/plain": [
       "Int64Index([  1,   2,   3,   4,   5,   6,   7,   8,   9,  10,\n",
       "            ...\n",
       "            114, 115, 116, 117, 118, 119, 120, 121, 122, 123],\n",
       "           dtype='int64', name='episode', length=123)"
      ]
     },
     "execution_count": 55,
     "metadata": {},
     "output_type": "execute_result"
    }
   ],
   "source": [
    "iasip2_df.index"
   ]
  },
  {
   "cell_type": "code",
   "execution_count": 56,
   "metadata": {
    "scrolled": true
   },
   "outputs": [
    {
     "name": "stdout",
     "output_type": "stream",
     "text": [
      "<class 'pandas.core.frame.DataFrame'>\n",
      "Index: 123 entries, S01E01 to S11E10\n",
      "Data columns (total 6 columns):\n",
      "episode        123 non-null object\n",
      "e_title        39 non-null object\n",
      "e_time         36 non-null object\n",
      "day_of_week    35 non-null object\n",
      "location       30 non-null object\n",
      "keywords       10 non-null object\n",
      "dtypes: object(6)\n",
      "memory usage: 6.7+ KB\n"
     ]
    }
   ],
   "source": [
    "iasip_df.info()\n",
    "#this is missing the epidose column, "
   ]
  },
  {
   "cell_type": "code",
   "execution_count": 57,
   "metadata": {
    "scrolled": true
   },
   "outputs": [
    {
     "name": "stdout",
     "output_type": "stream",
     "text": [
      "<class 'pandas.core.frame.DataFrame'>\n",
      "Int64Index: 123 entries, 1 to 123\n",
      "Data columns (total 6 columns):\n",
      "season         123 non-null object\n",
      "e_title        123 non-null object\n",
      "e_time         41 non-null object\n",
      "day_of_week    39 non-null object\n",
      "location       91 non-null object\n",
      "keywords       12 non-null object\n",
      "dtypes: object(6)\n",
      "memory usage: 6.7+ KB\n"
     ]
    }
   ],
   "source": [
    "iasip2_df.info()"
   ]
  },
  {
   "cell_type": "code",
   "execution_count": 76,
   "metadata": {
    "scrolled": true
   },
   "outputs": [
    {
     "name": "stdout",
     "output_type": "stream",
     "text": [
      "<class 'pandas.core.frame.DataFrame'>\n",
      "Int64Index: 25 entries, 124 to 148\n",
      "Data columns (total 4 columns):\n",
      "season         25 non-null object\n",
      "e_title        25 non-null object\n",
      "e_time         25 non-null object\n",
      "day_of_week    25 non-null object\n",
      "dtypes: object(4)\n",
      "memory usage: 1000.0+ bytes\n"
     ]
    }
   ],
   "source": [
    "iasip3_df.info()"
   ]
  },
  {
   "cell_type": "code",
   "execution_count": 59,
   "metadata": {
    "scrolled": false
   },
   "outputs": [
    {
     "name": "stdout",
     "output_type": "stream",
     "text": [
      "<class 'pandas.core.frame.DataFrame'>\n",
      "Int64Index: 123 entries, 1 to 123\n",
      "Data columns (total 4 columns):\n",
      "season         123 non-null object\n",
      "e_title        123 non-null object\n",
      "e_time         123 non-null object\n",
      "day_of_week    123 non-null object\n",
      "dtypes: object(4)\n",
      "memory usage: 4.8+ KB\n"
     ]
    }
   ],
   "source": [
    "iasip4_df.info()"
   ]
  },
  {
   "cell_type": "code",
   "execution_count": 77,
   "metadata": {
    "scrolled": true
   },
   "outputs": [
    {
     "name": "stdout",
     "output_type": "stream",
     "text": [
      "<class 'pandas.core.frame.DataFrame'>\n",
      "Int64Index: 123 entries, 1 to 123\n",
      "Data columns (total 4 columns):\n",
      "season         123 non-null object\n",
      "e_title        123 non-null object\n",
      "e_time         74 non-null object\n",
      "day_of_week    73 non-null object\n",
      "dtypes: object(4)\n",
      "memory usage: 4.8+ KB\n"
     ]
    }
   ],
   "source": [
    "iasip5_df.info()"
   ]
  },
  {
   "cell_type": "code",
   "execution_count": 8,
   "metadata": {
    "scrolled": false
   },
   "outputs": [
    {
     "data": {
      "text/plain": [
       "Index(['season', 'e_title', 'e_time', 'day_of_week', 'location', 'keywords'], dtype='object')"
      ]
     },
     "execution_count": 8,
     "metadata": {},
     "output_type": "execute_result"
    }
   ],
   "source": [
    "iasip_df.columns"
   ]
  },
  {
   "cell_type": "code",
   "execution_count": null,
   "metadata": {
    "scrolled": false
   },
   "outputs": [],
   "source": [
    "iasip_df[['e_title', 'season','day_of_week']]"
   ]
  },
  {
   "cell_type": "code",
   "execution_count": null,
   "metadata": {
    "scrolled": true
   },
   "outputs": [],
   "source": [
    "iasip_df.e_title"
   ]
  },
  {
   "cell_type": "code",
   "execution_count": null,
   "metadata": {
    "scrolled": false
   },
   "outputs": [],
   "source": [
    "iasip_df['season']"
   ]
  },
  {
   "cell_type": "code",
   "execution_count": null,
   "metadata": {
    "scrolled": true
   },
   "outputs": [],
   "source": [
    "iasip_df[['season', 'e_title']]"
   ]
  },
  {
   "cell_type": "code",
   "execution_count": 9,
   "metadata": {
    "scrolled": false
   },
   "outputs": [],
   "source": [
    "df = pd.concat([iasip_df, update_df], axis=0, sort=True, ignore_index=True)               "
   ]
  },
  {
   "cell_type": "code",
   "execution_count": 29,
   "metadata": {
    "scrolled": false
   },
   "outputs": [
    {
     "name": "stdout",
     "output_type": "stream",
     "text": [
      "<class 'pandas.core.frame.DataFrame'>\n",
      "RangeIndex: 138 entries, 0 to 137\n",
      "Data columns (total 6 columns):\n",
      "day_of_week    88 non-null object\n",
      "e_time         89 non-null object\n",
      "e_title        138 non-null object\n",
      "keywords       35 non-null object\n",
      "location       138 non-null object\n",
      "season         138 non-null object\n",
      "dtypes: object(6)\n",
      "memory usage: 6.5+ KB\n"
     ]
    }
   ],
   "source": [
    "#keywords can have null values, all other values should equal total entries\n",
    "df.info()"
   ]
  },
  {
   "cell_type": "code",
   "execution_count": null,
   "metadata": {
    "scrolled": false
   },
   "outputs": [],
   "source": [
    "#find which episodes are missing values in the e_time column\n",
    "df[df.e_time.isnull()]"
   ]
  },
  {
   "cell_type": "code",
   "execution_count": null,
   "metadata": {
    "scrolled": true
   },
   "outputs": [],
   "source": [
    "df.tail(21)"
   ]
  },
  {
   "cell_type": "code",
   "execution_count": 19,
   "metadata": {
    "scrolled": false
   },
   "outputs": [
    {
     "name": "stdout",
     "output_type": "stream",
     "text": [
      "Index(['season', 'e_title', 'e_time', 'day_of_week', 'location', 'keywords'], dtype='object')\n",
      "Index(['season', 'e_title', 'e_time', 'day_of_week', 'location', 'keywords'], dtype='object')\n",
      "Index(['day_of_week', 'e_time', 'e_title', 'keywords', 'location', 'season'], dtype='object')\n"
     ]
    }
   ],
   "source": [
    "print(update_df.columns)\n",
    "print(iasip_df.columns)\n",
    "print(df.columns)"
   ]
  },
  {
   "cell_type": "code",
   "execution_count": null,
   "metadata": {},
   "outputs": [],
   "source": [
    "type(df)"
   ]
  },
  {
   "cell_type": "code",
   "execution_count": null,
   "metadata": {
    "scrolled": true
   },
   "outputs": [],
   "source": [
    "season_7 = df.loc[71:83, ['season', 'e_title', 'location']]\n",
    "print(season_7)"
   ]
  },
  {
   "cell_type": "code",
   "execution_count": null,
   "metadata": {
    "scrolled": false
   },
   "outputs": [],
   "source": [
    "season_12 = df.loc[124:133, ['season', 'e_title', 'location']]\n",
    "print(season_12)"
   ]
  },
  {
   "cell_type": "code",
   "execution_count": null,
   "metadata": {
    "scrolled": true
   },
   "outputs": [],
   "source": [
    "df.iloc[71:83,1:2]"
   ]
  },
  {
   "cell_type": "code",
   "execution_count": null,
   "metadata": {
    "scrolled": true
   },
   "outputs": [],
   "source": [
    "#should return season 7\n",
    "df.loc[71:83, ['season', 'e_title']]"
   ]
  },
  {
   "cell_type": "code",
   "execution_count": 21,
   "metadata": {
    "scrolled": true
   },
   "outputs": [
    {
     "data": {
      "text/plain": [
       "On a Monday           21\n",
       "On a Tuesday          16\n",
       "On a Wednesday        15\n",
       "On a Saturday         11\n",
       "On a Friday           10\n",
       "On a Thursday          8\n",
       "On a Sunday            2\n",
       "na                     2\n",
       "On Valentine's Day     1\n",
       "On a Tue sday          1\n",
       "On Friday the 13th     1\n",
       "Name: day_of_week, dtype: int64"
      ]
     },
     "execution_count": 21,
     "metadata": {},
     "output_type": "execute_result"
    }
   ],
   "source": [
    "#this should show every day of the week plus three outliers\n",
    "df.day_of_week.value_counts()"
   ]
  },
  {
   "cell_type": "code",
   "execution_count": 22,
   "metadata": {
    "scrolled": true
   },
   "outputs": [
    {
     "data": {
      "text/plain": [
       "Philadelphia, PA                         132\n",
       "Los Angeles, CA                            1\n",
       "Poconos, PA                                1\n",
       "Jersey Shore, NJ                           1\n",
       "Atlantic City, NJ                          1\n",
       "Fallujah, Iraq                             1\n",
       "Somewhere outside of Philadelphia, PA      1\n",
       "Name: location, dtype: int64"
      ]
     },
     "execution_count": 22,
     "metadata": {},
     "output_type": "execute_result"
    }
   ],
   "source": [
    "df.location.value_counts()"
   ]
  },
  {
   "cell_type": "code",
   "execution_count": null,
   "metadata": {
    "scrolled": true
   },
   "outputs": [],
   "source": [
    "df[df.location.isnull()]"
   ]
  },
  {
   "cell_type": "code",
   "execution_count": 24,
   "metadata": {
    "scrolled": true
   },
   "outputs": [
    {
     "data": {
      "text/plain": [
       "<matplotlib.axes._subplots.AxesSubplot at 0x7f47cf024ef0>"
      ]
     },
     "execution_count": 24,
     "metadata": {},
     "output_type": "execute_result"
    },
    {
     "data": {
      "image/png": "[encoded data removed]",
      "text/plain": [
       "<Figure size 432x288 with 1 Axes>"
      ]
     },
     "metadata": {},
     "output_type": "display_data"
    }
   ],
   "source": [
    "df.day_of_week.value_counts().plot(kind='bar', title='Epiode by Day of Week')"
   ]
  },
  {
   "cell_type": "code",
   "execution_count": 26,
   "metadata": {
    "scrolled": false
   },
   "outputs": [
    {
     "data": {
      "text/plain": [
       "<matplotlib.axes._subplots.AxesSubplot at 0x7f47cef740f0>"
      ]
     },
     "execution_count": 26,
     "metadata": {},
     "output_type": "execute_result"
    },
    {
     "data": {
      "image/png": "[encoded data removed]",
      "text/plain": [
       "<Figure size 432x288 with 1 Axes>"
      ]
     },
     "metadata": {},
     "output_type": "display_data"
    }
   ],
   "source": [
    "df.location.value_counts().plot(kind='pie', title='Epiode by Location')"
   ]
  },
  {
   "cell_type": "code",
   "execution_count": null,
   "metadata": {},
   "outputs": [],
   "source": []
  },
  {
   "cell_type": "code",
   "execution_count": null,
   "metadata": {},
   "outputs": [],
   "source": []
  }
 ],
 "metadata": {
  "kernelspec": {
   "display_name": "Python 3",
   "language": "python",
   "name": "python3"
  },
  "language_info": {
   "codemirror_mode": {
    "name": "ipython",
    "version": 3
   },
   "file_extension": ".py",
   "mimetype": "text/x-python",
   "name": "python",
   "nbconvert_exporter": "python",
   "pygments_lexer": "ipython3",
   "version": "3.6.5"
  }
 },
 "nbformat": 4,
 "nbformat_minor": 2
}
