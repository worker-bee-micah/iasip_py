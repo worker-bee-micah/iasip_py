{
 "cells": [
  {
   "cell_type": "markdown",
   "metadata": {},
   "source": [
    "## Web Scraping Philadatia"
   ]
  },
  {
   "cell_type": "code",
   "execution_count": 7,
   "metadata": {},
   "outputs": [],
   "source": [
    "# This notebook requires importing extra Python modules.\n",
    "import requests    \n",
    "from bs4 import BeautifulSoup "
   ]
  },
  {
   "cell_type": "code",
   "execution_count": 8,
   "metadata": {},
   "outputs": [],
   "source": [
    "# Display a welcome page stored as a HTML String\n",
    "rum_ham = \"\"\"\n",
    "<!doctype html>\n",
    "<html lang=\"en\">\n",
    "<head>\n",
    "  <title>Its Always Sunny in Philadatia.</title>\n",
    "</head>\n",
    "<body>\n",
    "  <h1 style=\"color:#F15B2A;\">A Project for Data Science Jabronis.</h1>\n",
    "  <p id=\"author\">Author : worker-bee-micah</p>\n",
    "  <p id=\"description\">Find your favorite episode quickly, pick a random episode if you are bored.</p>\n",
    "  \n",
    "  <h3 style=\"color:#404040\">Number of Episodes by Season</h3>\n",
    "  <table id=\"module\" style=\"width:100%\">\n",
    "      <tr>\n",
    "        <th>Season Number</th>\n",
    "        <th>Number of Episodes</th> \n",
    "      </tr>\n",
    "      <tr>\n",
    "        <td>Season 1</td>\n",
    "        <td>7</td> \n",
    "      </tr>\n",
    "      <tr>\n",
    "        <td>Season 2</td>\n",
    "        <td>10</td> \n",
    "      </tr>\n",
    "      <tr>\n",
    "        <td>Seaon 3</td>\n",
    "        <td>15</td> \n",
    "      </tr>\n",
    "      <tr>\n",
    "        <td>Season 4</td>\n",
    "        <td>13</td> \n",
    "      </tr>\n",
    "      <tr>\n",
    "        <td>Season 5</td>\n",
    "        <td>12</td> \n",
    "      </tr>\n",
    "      <tr>\n",
    "        <td>Season 6</td>\n",
    "        <td>13</td> \n",
    "      </tr>\n",
    "      <tr>\n",
    "        <td>Season 7</td>\n",
    "        <td>13</td> \n",
    "      </tr>\n",
    "      <tr>\n",
    "        <td>Season 8</td>\n",
    "        <td>10</td> \n",
    "      </tr>\n",
    "      <tr>\n",
    "        <td>Season 9</td>\n",
    "        <td>10</td> \n",
    "      </tr>\n",
    "      <tr>\n",
    "        <td>Season 10</td>\n",
    "        <td>10</td> \n",
    "      </tr>\n",
    "      <tr>\n",
    "        <td>Season 11</td>\n",
    "        <td>10</td> \n",
    "      </tr>\n",
    "      <tr>\n",
    "        <td>Season 12</td>\n",
    "        <td>10</td> \n",
    "      </tr>\n",
    "      <tr>\n",
    "        <td>Season 13</td>\n",
    "        <td>10</td> \n",
    "      </tr>\n",
    "  </table>\n",
    "</body>\n",
    "</html>\n",
    "\"\"\""
   ]
  },
  {
   "cell_type": "code",
   "execution_count": 9,
   "metadata": {
    "scrolled": false
   },
   "outputs": [
    {
     "data": {
      "text/html": [
       "\n",
       "<!doctype html>\n",
       "<html lang=\"en\">\n",
       "<head>\n",
       "  <title>Its Always Sunny in Philadatia.</title>\n",
       "</head>\n",
       "<body>\n",
       "  <h1 style=\"color:#F15B2A;\">A Project for Data Science Jabronis.</h1>\n",
       "  <p id=\"author\">Author : worker-bee-micah</p>\n",
       "  <p id=\"description\">Find your favorite episode quickly, pick a random episode if you are bored.</p>\n",
       "  \n",
       "  <h3 style=\"color:#404040\">Number of Episodes by Season</h3>\n",
       "  <table id=\"module\" style=\"width:100%\">\n",
       "      <tr>\n",
       "        <th>Season Number</th>\n",
       "        <th>Number of Episodes</th> \n",
       "      </tr>\n",
       "      <tr>\n",
       "        <td>Season 1</td>\n",
       "        <td>7</td> \n",
       "      </tr>\n",
       "      <tr>\n",
       "        <td>Season 2</td>\n",
       "        <td>10</td> \n",
       "      </tr>\n",
       "      <tr>\n",
       "        <td>Seaon 3</td>\n",
       "        <td>15</td> \n",
       "      </tr>\n",
       "      <tr>\n",
       "        <td>Season 4</td>\n",
       "        <td>13</td> \n",
       "      </tr>\n",
       "      <tr>\n",
       "        <td>Season 5</td>\n",
       "        <td>12</td> \n",
       "      </tr>\n",
       "      <tr>\n",
       "        <td>Season 6</td>\n",
       "        <td>13</td> \n",
       "      </tr>\n",
       "      <tr>\n",
       "        <td>Season 7</td>\n",
       "        <td>13</td> \n",
       "      </tr>\n",
       "      <tr>\n",
       "        <td>Season 8</td>\n",
       "        <td>10</td> \n",
       "      </tr>\n",
       "      <tr>\n",
       "        <td>Season 9</td>\n",
       "        <td>10</td> \n",
       "      </tr>\n",
       "      <tr>\n",
       "        <td>Season 10</td>\n",
       "        <td>10</td> \n",
       "      </tr>\n",
       "      <tr>\n",
       "        <td>Season 11</td>\n",
       "        <td>10</td> \n",
       "      </tr>\n",
       "      <tr>\n",
       "        <td>Season 12</td>\n",
       "        <td>10</td> \n",
       "      </tr>\n",
       "      <tr>\n",
       "        <td>Season 13</td>\n",
       "        <td>10</td> \n",
       "      </tr>\n",
       "  </table>\n",
       "</body>\n",
       "</html>\n"
      ],
      "text/plain": [
       "<IPython.core.display.HTML object>"
      ]
     },
     "metadata": {},
     "output_type": "display_data"
    }
   ],
   "source": [
    "# display the above HTML string in the juptyer notebook\n",
    "from IPython.core.display import display, HTML\n",
    "display(HTML(rum_ham))"
   ]
  },
  {
   "cell_type": "code",
   "execution_count": 10,
   "metadata": {},
   "outputs": [],
   "source": [
    "# Load the HTML string into beautiful soup \n",
    "ps = BeautifulSoup(rum_ham, \"lxml\")"
   ]
  },
  {
   "cell_type": "code",
   "execution_count": 28,
   "metadata": {
    "scrolled": true
   },
   "outputs": [
    {
     "name": "stdout",
     "output_type": "stream",
     "text": [
      "<!DOCTYPE html>\n",
      "<html lang=\"en\">\n",
      "<head>\n",
      "<title>Its Always Sunny in Philadatia.</title>\n",
      "</head>\n",
      "<body>\n",
      "<h1 style=\"color:#F15B2A;\">A Project for Data Science Jabronis.</h1>\n",
      "<p id=\"author\">Author : worker-bee-micah</p>\n",
      "<p id=\"description\">Find your favorite episode quickly, pick a random episode if you are bored.</p>\n",
      "<h3 style=\"color:#404040\">Number of Episodes by Season</h3>\n",
      "<table id=\"module\" style=\"width:100%\">\n",
      "<tr>\n",
      "<th>Season Number</th>\n",
      "<th>Number of Episodes</th>\n",
      "</tr>\n",
      "<tr>\n",
      "<td>Season 1</td>\n",
      "<td>7</td>\n",
      "</tr>\n",
      "<tr>\n",
      "<td>Season 2</td>\n",
      "<td>10</td>\n",
      "</tr>\n",
      "<tr>\n",
      "<td>Seaon 3</td>\n",
      "<td>15</td>\n",
      "</tr>\n",
      "<tr>\n",
      "<td>Season 4</td>\n",
      "<td>13</td>\n",
      "</tr>\n",
      "<tr>\n",
      "<td>Season 5</td>\n",
      "<td>12</td>\n",
      "</tr>\n",
      "<tr>\n",
      "<td>Season 6</td>\n",
      "<td>13</td>\n",
      "</tr>\n",
      "<tr>\n",
      "<td>Season 7</td>\n",
      "<td>13</td>\n",
      "</tr>\n",
      "<tr>\n",
      "<td>Season 8</td>\n",
      "<td>10</td>\n",
      "</tr>\n",
      "<tr>\n",
      "<td>Season 9</td>\n",
      "<td>10</td>\n",
      "</tr>\n",
      "<tr>\n",
      "<td>Season 10</td>\n",
      "<td>10</td>\n",
      "</tr>\n",
      "<tr>\n",
      "<td>Season 11</td>\n",
      "<td>30</td>\n",
      "</tr>\n",
      "<tr>\n",
      "<td>Season 12</td>\n",
      "<td>10</td>\n",
      "</tr>\n",
      "<tr>\n",
      "<td>Season 13</td>\n",
      "<td>tbd</td>\n",
      "</tr>\n",
      "</table>\n",
      "</body>\n",
      "</html>\n",
      "\n"
     ]
    }
   ],
   "source": [
    "# print the file to make sure it loaded correctly\n",
    "print(ps)"
   ]
  },
  {
   "cell_type": "code",
   "execution_count": 12,
   "metadata": {},
   "outputs": [],
   "source": [
    "# enter values into the name parameter to select by tag name\n",
    "body = ps.find(name=\"body\")"
   ]
  },
  {
   "cell_type": "code",
   "execution_count": 13,
   "metadata": {
    "scrolled": true
   },
   "outputs": [
    {
     "name": "stdout",
     "output_type": "stream",
     "text": [
      "<body>\n",
      "<h1 style=\"color:#F15B2A;\">A Project for Data Science Jabronis.</h1>\n",
      "<p id=\"author\">Author : worker-bee-micah</p>\n",
      "<p id=\"description\">Find your favorite episode quickly, pick a random episode if you are bored.</p>\n",
      "<h3 style=\"color:#404040\">Number of Episodes by Season</h3>\n",
      "<table id=\"module\" style=\"width:100%\">\n",
      "<tr>\n",
      "<th>Season Number</th>\n",
      "<th>Number of Episodes</th>\n",
      "</tr>\n",
      "<tr>\n",
      "<td>Season 1</td>\n",
      "<td>7</td>\n",
      "</tr>\n",
      "<tr>\n",
      "<td>Season 2</td>\n",
      "<td>10</td>\n",
      "</tr>\n",
      "<tr>\n",
      "<td>Seaon 3</td>\n",
      "<td>15</td>\n",
      "</tr>\n",
      "<tr>\n",
      "<td>Season 4</td>\n",
      "<td>13</td>\n",
      "</tr>\n",
      "<tr>\n",
      "<td>Season 5</td>\n",
      "<td>12</td>\n",
      "</tr>\n",
      "<tr>\n",
      "<td>Season 6</td>\n",
      "<td>13</td>\n",
      "</tr>\n",
      "<tr>\n",
      "<td>Season 7</td>\n",
      "<td>13</td>\n",
      "</tr>\n",
      "<tr>\n",
      "<td>Season 8</td>\n",
      "<td>10</td>\n",
      "</tr>\n",
      "<tr>\n",
      "<td>Season 9</td>\n",
      "<td>10</td>\n",
      "</tr>\n",
      "<tr>\n",
      "<td>Season 10</td>\n",
      "<td>10</td>\n",
      "</tr>\n",
      "<tr>\n",
      "<td>Season 11</td>\n",
      "<td>10</td>\n",
      "</tr>\n",
      "<tr>\n",
      "<td>Season 12</td>\n",
      "<td>10</td>\n",
      "</tr>\n",
      "<tr>\n",
      "<td>Season 13</td>\n",
      "<td>10</td>\n",
      "</tr>\n",
      "</table>\n",
      "</body>\n"
     ]
    }
   ],
   "source": [
    "print(body)"
   ]
  },
  {
   "cell_type": "code",
   "execution_count": 14,
   "metadata": {},
   "outputs": [
    {
     "name": "stdout",
     "output_type": "stream",
     "text": [
      "A Project for Data Science Jabronis.\n"
     ]
    }
   ],
   "source": [
    "# Now we need the tag contents, enter a text attribute\n",
    "print(body.find(name=\"h1\").text)"
   ]
  },
  {
   "cell_type": "code",
   "execution_count": 15,
   "metadata": {},
   "outputs": [
    {
     "name": "stdout",
     "output_type": "stream",
     "text": [
      "<p id=\"author\">Author : worker-bee-micah</p>\n"
     ]
    }
   ],
   "source": [
    "# Find the first element\n",
    "print(body.find(name=\"p\"))"
   ]
  },
  {
   "cell_type": "code",
   "execution_count": 33,
   "metadata": {},
   "outputs": [
    {
     "name": "stdout",
     "output_type": "stream",
     "text": [
      "[<p id=\"author\">Author : worker-bee-micah</p>, <p id=\"description\">Find your favorite episode quickly, pick a random episode if you are bored.</p>]\n"
     ]
    }
   ],
   "source": [
    "# Return all the elements of the tag that was selected\n",
    "print(body.findAll(name=\"p\"))"
   ]
  },
  {
   "cell_type": "code",
   "execution_count": 34,
   "metadata": {},
   "outputs": [
    {
     "name": "stdout",
     "output_type": "stream",
     "text": [
      "Author : worker-bee-micah\n",
      "Find your favorite episode quickly, pick a random episode if you are bored.\n"
     ]
    }
   ],
   "source": [
    "# Display optimized for browsing, loops through every element\n",
    "for p in body.findAll(name=\"p\"):\n",
    "    print(p.text)"
   ]
  },
  {
   "cell_type": "code",
   "execution_count": 39,
   "metadata": {},
   "outputs": [
    {
     "name": "stdout",
     "output_type": "stream",
     "text": [
      "<p id=\"author\">Author : worker-bee-micah</p>\n"
     ]
    }
   ],
   "source": [
    "# Search for the author of the page\n",
    "print(body.find(name='p', attrs={\"id\":\"author\"}))"
   ]
  },
  {
   "cell_type": "code",
   "execution_count": 40,
   "metadata": {},
   "outputs": [
    {
     "name": "stdout",
     "output_type": "stream",
     "text": [
      "<p id=\"description\">Find your favorite episode quickly, pick a random episode if you are bored.</p>\n"
     ]
    }
   ],
   "source": [
    "#Find the page description\n",
    "print(body.find(name='p', attrs={\"id\":\"description\"}))"
   ]
  },
  {
   "cell_type": "code",
   "execution_count": 5,
   "metadata": {},
   "outputs": [
    {
     "ename": "NameError",
     "evalue": "name 'ps' is not defined",
     "output_type": "error",
     "traceback": [
      "\u001b[0;31m---------------------------------------------------------------------------\u001b[0m",
      "\u001b[0;31mNameError\u001b[0m                                 Traceback (most recent call last)",
      "\u001b[0;32m<ipython-input-5-e905679db6b7>\u001b[0m in \u001b[0;36m<module>\u001b[0;34m()\u001b[0m\n\u001b[1;32m      1\u001b[0m \u001b[0;31m# body\u001b[0m\u001b[0;34m\u001b[0m\u001b[0;34m\u001b[0m\u001b[0m\n\u001b[0;32m----> 2\u001b[0;31m \u001b[0mbody\u001b[0m \u001b[0;34m=\u001b[0m \u001b[0mps\u001b[0m\u001b[0;34m.\u001b[0m\u001b[0mfind\u001b[0m\u001b[0;34m(\u001b[0m\u001b[0mname\u001b[0m\u001b[0;34m=\u001b[0m\u001b[0;34m\"body\"\u001b[0m\u001b[0;34m)\u001b[0m\u001b[0;34m\u001b[0m\u001b[0m\n\u001b[0m\u001b[1;32m      3\u001b[0m \u001b[0;31m# module table\u001b[0m\u001b[0;34m\u001b[0m\u001b[0;34m\u001b[0m\u001b[0m\n\u001b[1;32m      4\u001b[0m \u001b[0mmodule_table\u001b[0m \u001b[0;34m=\u001b[0m \u001b[0mbody\u001b[0m\u001b[0;34m.\u001b[0m\u001b[0mfind\u001b[0m\u001b[0;34m(\u001b[0m\u001b[0mname\u001b[0m\u001b[0;34m=\u001b[0m\u001b[0;34m'table'\u001b[0m\u001b[0;34m,\u001b[0m \u001b[0mattrs\u001b[0m\u001b[0;34m=\u001b[0m\u001b[0;34m{\u001b[0m\u001b[0;34m\"id\"\u001b[0m\u001b[0;34m:\u001b[0m \u001b[0;34m\"module\"\u001b[0m\u001b[0;34m}\u001b[0m\u001b[0;34m)\u001b[0m\u001b[0;34m\u001b[0m\u001b[0m\n\u001b[1;32m      5\u001b[0m \u001b[0;31m# iterate through each row in the table (skipping the first row)\u001b[0m\u001b[0;34m\u001b[0m\u001b[0;34m\u001b[0m\u001b[0m\n",
      "\u001b[0;31mNameError\u001b[0m: name 'ps' is not defined"
     ]
    }
   ],
   "source": [
    "# body\n",
    "body = ps.find(name=\"body\")\n",
    "# module table\n",
    "module_table = body.find(name='table', attrs={\"id\": \"module\"})\n",
    "# iterate through each row in the table (skipping the first row)\n",
    "for row in module_table.findAll(name='tr')[1:]:\n",
    "    # module title\n",
    "    season = row.findAll(name='td')[0].text\n",
    "    # module duration\n",
    "    number_episodes = int(row.findAll(name='td')[1].text)\n",
    "    print(title, duration)"
   ]
  },
  {
   "cell_type": "code",
   "execution_count": null,
   "metadata": {},
   "outputs": [],
   "source": []
  }
 ],
 "metadata": {
  "anaconda-cloud": {},
  "hide_input": false,
  "kernelspec": {
   "display_name": "Python 3",
   "language": "python",
   "name": "python3"
  },
  "language_info": {
   "codemirror_mode": {
    "name": "ipython",
    "version": 3
   },
   "file_extension": ".py",
   "mimetype": "text/x-python",
   "name": "python",
   "nbconvert_exporter": "python",
   "pygments_lexer": "ipython3",
   "version": "3.6.5"
  },
  "toc": {
   "nav_menu": {
    "height": "30px",
    "width": "252px"
   },
   "navigate_menu": true,
   "number_sections": false,
   "sideBar": true,
   "threshold": 4,
   "toc_cell": false,
   "toc_section_display": "block",
   "toc_window_display": false
  }
 },
 "nbformat": 4,
 "nbformat_minor": 1
}
