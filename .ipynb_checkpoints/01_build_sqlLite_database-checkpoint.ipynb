{
 "cells": [
  {
   "cell_type": "markdown",
   "metadata": {},
   "source": [
    "Build a SQLite database to manage the episodes.\n",
    "This requires an extra Python package to be imported.\n",
    "Once the database is built and populated, use the queries to research episodes."
   ]
  },
  {
   "cell_type": "code",
   "execution_count": 1,
   "metadata": {},
   "outputs": [],
   "source": [
    "import sqlite3"
   ]
  },
  {
   "cell_type": "code",
   "execution_count": 19,
   "metadata": {},
   "outputs": [],
   "source": [
    "#create a db named \"sunnyDB.db\", overwrite existing if needed\n",
    "#skip this step after first save of this file\n",
    "#create a connection called sunny_conn\n",
    "sunny_conn = sqlite3.connect(\"sunnyDB.db\")\n",
    "sunny_conn.close()"
   ]
  },
  {
   "cell_type": "markdown",
   "metadata": {},
   "source": [
    "Create the table to store the data in the file \"iasip.sql\""
   ]
  },
  {
   "cell_type": "code",
   "execution_count": 20,
   "metadata": {},
   "outputs": [
    {
     "ename": "OperationalError",
     "evalue": "table episodes already exists",
     "output_type": "error",
     "traceback": [
      "\u001b[0;31m---------------------------------------------------------------------------\u001b[0m",
      "\u001b[0;31mOperationalError\u001b[0m                          Traceback (most recent call last)",
      "\u001b[0;32m<ipython-input-20-2f844f2e79fc>\u001b[0m in \u001b[0;36m<module>\u001b[0;34m()\u001b[0m\n\u001b[1;32m     14\u001b[0m              );\"\"\"\n\u001b[1;32m     15\u001b[0m \u001b[0;31m#execute the above query, commit and close it\u001b[0m\u001b[0;34m\u001b[0m\u001b[0;34m\u001b[0m\u001b[0m\n\u001b[0;32m---> 16\u001b[0;31m \u001b[0mcursor\u001b[0m\u001b[0;34m.\u001b[0m\u001b[0mexecute\u001b[0m\u001b[0;34m(\u001b[0m\u001b[0mcreate_paddys\u001b[0m\u001b[0;34m)\u001b[0m\u001b[0;34m\u001b[0m\u001b[0m\n\u001b[0m\u001b[1;32m     17\u001b[0m \u001b[0msunny_conn\u001b[0m\u001b[0;34m.\u001b[0m\u001b[0mcommit\u001b[0m\u001b[0;34m(\u001b[0m\u001b[0;34m)\u001b[0m\u001b[0;34m\u001b[0m\u001b[0m\n\u001b[1;32m     18\u001b[0m \u001b[0msunny_conn\u001b[0m\u001b[0;34m.\u001b[0m\u001b[0mclose\u001b[0m\u001b[0;34m(\u001b[0m\u001b[0;34m)\u001b[0m\u001b[0;34m\u001b[0m\u001b[0m\n",
      "\u001b[0;31mOperationalError\u001b[0m: table episodes already exists"
     ]
    }
   ],
   "source": [
    "#open the connection, then the cursor\n",
    "sunny_conn = sqlite3.connect(\"sunnyDB.db\")\n",
    "cursor = sunny_conn.cursor()\n",
    "#build the table\n",
    "create_paddys = \"\"\"\n",
    "              CREATE TABLE episodes (\n",
    "              episode INTEGER PRIMARY KEY,\n",
    "              season CHAR(6),\n",
    "              e_title VARCHAR(40),\n",
    "              e_time TEXT(10),\n",
    "              day_of_week VARCHAR(20),\n",
    "              location VARCHAR(40),\n",
    "              keywords BLOB\n",
    "             );\"\"\"\n",
    "#execute the above query, commit and close it\n",
    "cursor.execute(create_paddys)\n",
    "sunny_conn.commit()\n",
    "sunny_conn.close()"
   ]
  },
  {
   "cell_type": "code",
   "execution_count": 25,
   "metadata": {},
   "outputs": [
    {
     "ename": "IntegrityError",
     "evalue": "UNIQUE constraint failed: episodes.episode",
     "output_type": "error",
     "traceback": [
      "\u001b[0;31m---------------------------------------------------------------------------\u001b[0m",
      "\u001b[0;31mIntegrityError\u001b[0m                            Traceback (most recent call last)",
      "\u001b[0;32m<ipython-input-25-30b6f64b3793>\u001b[0m in \u001b[0;36m<module>\u001b[0;34m()\u001b[0m\n\u001b[1;32m     16\u001b[0m                     \u001b[0mVALUES\u001b[0m\u001b[0;34m\u001b[0m\u001b[0m\n\u001b[1;32m     17\u001b[0m                     ({0}, \"{1}\", \"{2}\", \"{3}\", \"{4}\", \"{5}\");\"\"\".format(episode[0], episode[1], episode[2], episode[3], episode[4], episode[5])\n\u001b[0;32m---> 18\u001b[0;31m     \u001b[0mcursor\u001b[0m\u001b[0;34m.\u001b[0m\u001b[0mexecute\u001b[0m\u001b[0;34m(\u001b[0m\u001b[0minsert_trundle\u001b[0m\u001b[0;34m)\u001b[0m\u001b[0;34m\u001b[0m\u001b[0m\n\u001b[0m\u001b[1;32m     19\u001b[0m \u001b[0msunny_conn\u001b[0m\u001b[0;34m.\u001b[0m\u001b[0mcommit\u001b[0m\u001b[0;34m(\u001b[0m\u001b[0;34m)\u001b[0m\u001b[0;34m\u001b[0m\u001b[0m\n\u001b[1;32m     20\u001b[0m \u001b[0msunny_conn\u001b[0m\u001b[0;34m.\u001b[0m\u001b[0mclose\u001b[0m\u001b[0;34m(\u001b[0m\u001b[0;34m)\u001b[0m\u001b[0;34m\u001b[0m\u001b[0m\n",
      "\u001b[0;31mIntegrityError\u001b[0m: UNIQUE constraint failed: episodes.episode"
     ]
    }
   ],
   "source": [
    "#insert the cleaned data file iasip.sql created previously\n",
    "#episode_data = %%file.open(iasip.sql)\n",
    "#test the insert without the sql file\n",
    "episode_data = [( 134, \"S13E01\", \"The Gang Makes Paddy's Great Again\",\"9:30 PM\",\"On a Thursday\",\"Philadelphia, PA\"),\n",
    "                ( 135, \"S13E02\", \"The Gang Escapes\", \"2:30 PM\", \"On a Saturday\",\"Philadelphia, PA\"),\n",
    "                ( 136, \"S13E03\", \"The Gang Beats Boggs: Ladies Reboot\", \"12:00 PM\", \"On a Thursday\", \"Los Angeles, CA\"),\n",
    "                ( 137, \"S13E04\", \"Time's Up for the Gang\", \"10:00 AM\", \"On a Saturday\", \"Philadelphia, PA\"),\n",
    "                ( 138, \"S13E05\", \"The Gang Gets New Wheels\", \"3:15 PM\", \"On a Tuesday\", \"Philadelphia, PA\")]\n",
    "#create the connection\n",
    "sunny_conn = sqlite3.connect(\"sunnyDB.db\")\n",
    "cursor = sunny_conn.cursor()\n",
    "#insert each episode record, i.e. each row\n",
    "for episode in episode_data:\n",
    "    insert_trundle = \"\"\"INSERT INTO episodes\n",
    "                    (episode, season, e_title, e_time, day_of_week, location) \n",
    "                    VALUES\n",
    "                    ({0}, \"{1}\", \"{2}\", \"{3}\", \"{4}\", \"{5}\");\"\"\".format(episode[0], episode[1], episode[2], episode[3], episode[4], episode[5])\n",
    "    cursor.execute(insert_trundle)\n",
    "sunny_conn.commit()\n",
    "sunny_conn.close()"
   ]
  },
  {
   "cell_type": "code",
   "execution_count": 23,
   "metadata": {
    "scrolled": true
   },
   "outputs": [
    {
     "name": "stdout",
     "output_type": "stream",
     "text": [
      "(134, 'S13E01', \"The Gang Makes Paddy's Great Again\", '9:30 PM', 'On a Thursday', 'Philadelphia, PA', None)\n",
      "(135, 'S13E02', 'The Gang Escapes', '2:30 PM', 'On a Saturday', 'Philadelphia, PA', None)\n",
      "(136, 'S13E03', 'The Gang Beats Boggs: Ladies Reboot', '12:00 PM', 'On a Thursday', 'Los Angeles, CA', None)\n",
      "(137, 'S13E04', \"Time's Up for the Gang\", '10:00 AM', 'On a Saturday', 'Philadelphia, PA', None)\n",
      "(138, 'S13E05', 'The Gang Gets New Wheels', '3:15 PM', 'On a Tuesday', 'Philadelphia, PA', None)\n"
     ]
    }
   ],
   "source": [
    "#extract all the data\n",
    "sunny_conn = sqlite3.connect(\"sunnyDB.db\")\n",
    "cursor = sunny_conn.cursor()\n",
    "query = \"SELECT * FROM episodes\"\n",
    "cursor.execute(query)\n",
    "result = cursor.fetchall()\n",
    "for row in result:\n",
    "    print(row)\n",
    "sunny_conn.close()"
   ]
  },
  {
   "cell_type": "code",
   "execution_count": null,
   "metadata": {},
   "outputs": [],
   "source": []
  }
 ],
 "metadata": {
  "kernelspec": {
   "display_name": "Python 3",
   "language": "python",
   "name": "python3"
  },
  "language_info": {
   "codemirror_mode": {
    "name": "ipython",
    "version": 3
   },
   "file_extension": ".py",
   "mimetype": "text/x-python",
   "name": "python",
   "nbconvert_exporter": "python",
   "pygments_lexer": "ipython3",
   "version": "3.6.5"
  }
 },
 "nbformat": 4,
 "nbformat_minor": 2
}
